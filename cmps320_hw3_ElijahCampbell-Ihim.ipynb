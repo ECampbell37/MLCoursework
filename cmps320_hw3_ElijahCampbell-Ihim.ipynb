{
 "cells": [
  {
   "cell_type": "markdown",
   "id": "b33ad81b",
   "metadata": {},
   "source": [
    "# CMPS-320 Homework #3\n",
    "## Linear Regression Practice\n",
    "Elijah Campbell-Ihim\n",
    "\n",
    "10/30/23"
   ]
  },
  {
   "cell_type": "markdown",
   "id": "9d17f791",
   "metadata": {},
   "source": [
    "## Import Libraries"
   ]
  },
  {
   "cell_type": "code",
   "execution_count": 50,
   "id": "adb7d3db",
   "metadata": {},
   "outputs": [],
   "source": [
    "import pandas as pd\n",
    "import numpy as np\n",
    "import matplotlib.pyplot as plt\n",
    "import seaborn as sn\n",
    "import warnings\n",
    "warnings.filterwarnings('ignore')\n",
    "\n",
    "\n",
    "%matplotlib inline\n",
    "plt.style.use('seaborn-v0_8-white')"
   ]
  },
  {
   "cell_type": "code",
   "execution_count": 51,
   "id": "ada3ea3a",
   "metadata": {},
   "outputs": [
    {
     "data": {
      "text/html": [
       "<div>\n",
       "<style scoped>\n",
       "    .dataframe tbody tr th:only-of-type {\n",
       "        vertical-align: middle;\n",
       "    }\n",
       "\n",
       "    .dataframe tbody tr th {\n",
       "        vertical-align: top;\n",
       "    }\n",
       "\n",
       "    .dataframe thead th {\n",
       "        text-align: right;\n",
       "    }\n",
       "</style>\n",
       "<table border=\"1\" class=\"dataframe\">\n",
       "  <thead>\n",
       "    <tr style=\"text-align: right;\">\n",
       "      <th></th>\n",
       "      <th>salary</th>\n",
       "      <th>batting.avg</th>\n",
       "      <th>OBP</th>\n",
       "      <th>runs</th>\n",
       "      <th>hits</th>\n",
       "      <th>doubles</th>\n",
       "      <th>triples</th>\n",
       "      <th>homeruns</th>\n",
       "      <th>RBI</th>\n",
       "      <th>walks</th>\n",
       "      <th>strike.outs</th>\n",
       "      <th>stolen.bases</th>\n",
       "      <th>errors</th>\n",
       "      <th>free.agency.elig</th>\n",
       "      <th>free.agent.91</th>\n",
       "      <th>arb.elig</th>\n",
       "      <th>arb.91</th>\n",
       "      <th>name</th>\n",
       "    </tr>\n",
       "  </thead>\n",
       "  <tbody>\n",
       "    <tr>\n",
       "      <th>0</th>\n",
       "      <td>3300</td>\n",
       "      <td>0.272</td>\n",
       "      <td>0.302</td>\n",
       "      <td>69</td>\n",
       "      <td>153</td>\n",
       "      <td>21</td>\n",
       "      <td>4</td>\n",
       "      <td>31</td>\n",
       "      <td>104</td>\n",
       "      <td>22</td>\n",
       "      <td>80</td>\n",
       "      <td>4</td>\n",
       "      <td>3</td>\n",
       "      <td>1</td>\n",
       "      <td>0</td>\n",
       "      <td>0</td>\n",
       "      <td>0</td>\n",
       "      <td>Andre Dawson</td>\n",
       "    </tr>\n",
       "    <tr>\n",
       "      <th>1</th>\n",
       "      <td>2600</td>\n",
       "      <td>0.269</td>\n",
       "      <td>0.335</td>\n",
       "      <td>58</td>\n",
       "      <td>111</td>\n",
       "      <td>17</td>\n",
       "      <td>2</td>\n",
       "      <td>18</td>\n",
       "      <td>66</td>\n",
       "      <td>39</td>\n",
       "      <td>69</td>\n",
       "      <td>0</td>\n",
       "      <td>3</td>\n",
       "      <td>1</td>\n",
       "      <td>1</td>\n",
       "      <td>0</td>\n",
       "      <td>0</td>\n",
       "      <td>Steve Buchele</td>\n",
       "    </tr>\n",
       "    <tr>\n",
       "      <th>2</th>\n",
       "      <td>2500</td>\n",
       "      <td>0.249</td>\n",
       "      <td>0.337</td>\n",
       "      <td>54</td>\n",
       "      <td>115</td>\n",
       "      <td>15</td>\n",
       "      <td>1</td>\n",
       "      <td>17</td>\n",
       "      <td>73</td>\n",
       "      <td>63</td>\n",
       "      <td>116</td>\n",
       "      <td>6</td>\n",
       "      <td>5</td>\n",
       "      <td>1</td>\n",
       "      <td>0</td>\n",
       "      <td>0</td>\n",
       "      <td>0</td>\n",
       "      <td>Kal Daniels</td>\n",
       "    </tr>\n",
       "    <tr>\n",
       "      <th>3</th>\n",
       "      <td>2475</td>\n",
       "      <td>0.260</td>\n",
       "      <td>0.292</td>\n",
       "      <td>59</td>\n",
       "      <td>128</td>\n",
       "      <td>22</td>\n",
       "      <td>7</td>\n",
       "      <td>12</td>\n",
       "      <td>50</td>\n",
       "      <td>23</td>\n",
       "      <td>64</td>\n",
       "      <td>21</td>\n",
       "      <td>21</td>\n",
       "      <td>0</td>\n",
       "      <td>0</td>\n",
       "      <td>1</td>\n",
       "      <td>0</td>\n",
       "      <td>Shawon Dunston</td>\n",
       "    </tr>\n",
       "    <tr>\n",
       "      <th>4</th>\n",
       "      <td>2313</td>\n",
       "      <td>0.273</td>\n",
       "      <td>0.346</td>\n",
       "      <td>87</td>\n",
       "      <td>169</td>\n",
       "      <td>28</td>\n",
       "      <td>5</td>\n",
       "      <td>8</td>\n",
       "      <td>58</td>\n",
       "      <td>70</td>\n",
       "      <td>53</td>\n",
       "      <td>3</td>\n",
       "      <td>8</td>\n",
       "      <td>0</td>\n",
       "      <td>0</td>\n",
       "      <td>1</td>\n",
       "      <td>0</td>\n",
       "      <td>Mark Grace</td>\n",
       "    </tr>\n",
       "  </tbody>\n",
       "</table>\n",
       "</div>"
      ],
      "text/plain": [
       "   salary  batting.avg    OBP  runs  hits  doubles  triples  homeruns  RBI  \\\n",
       "0    3300        0.272  0.302    69   153       21        4        31  104   \n",
       "1    2600        0.269  0.335    58   111       17        2        18   66   \n",
       "2    2500        0.249  0.337    54   115       15        1        17   73   \n",
       "3    2475        0.260  0.292    59   128       22        7        12   50   \n",
       "4    2313        0.273  0.346    87   169       28        5         8   58   \n",
       "\n",
       "   walks  strike.outs  stolen.bases  errors  free.agency.elig  free.agent.91  \\\n",
       "0     22           80             4       3                 1              0   \n",
       "1     39           69             0       3                 1              1   \n",
       "2     63          116             6       5                 1              0   \n",
       "3     23           64            21      21                 0              0   \n",
       "4     70           53             3       8                 0              0   \n",
       "\n",
       "   arb.elig  arb.91               name  \n",
       "0         0       0  Andre Dawson       \n",
       "1         0       0  Steve Buchele      \n",
       "2         0       0  Kal Daniels        \n",
       "3         1       0  Shawon Dunston     \n",
       "4         1       0  Mark Grace         "
      ]
     },
     "execution_count": 51,
     "metadata": {},
     "output_type": "execute_result"
    }
   ],
   "source": [
    "baseball = pd.read_table('http://jse.amstat.org/datasets/baseball.dat.txt',\n",
    "header = None, sep= \"\\s+\", names =[\"salary\", \"batting.avg\", \"OBP\", \"runs\", \"hits\",\n",
    "\"doubles\", \"triples\", \"homeruns\", \"RBI\", \"walks\", \"strike.outs\",\n",
    "\"stolen.bases\", \"errors\", \"free.agency.elig\", \"free.agent.91\",\n",
    "\"arb.elig\", \"arb.91\", \"name\"])\n",
    "baseball.head()"
   ]
  },
  {
   "cell_type": "markdown",
   "id": "efbb96f7",
   "metadata": {},
   "source": [
    "## Step 1: Exploratory Data Analysis\n",
    "### Histogram of Salaries and ln(Salaries)"
   ]
  },
  {
   "cell_type": "code",
   "execution_count": 52,
   "id": "5070ea01",
   "metadata": {},
   "outputs": [
    {
     "data": {
      "image/png": "[encoded data removed]",
      "text/plain": [
       "<Figure size 1000x600 with 1 Axes>"
      ]
     },
     "metadata": {},
     "output_type": "display_data"
    }
   ],
   "source": [
    "plt.figure(figsize=(10, 6))\n",
    "plt.hist(baseball[\"salary\"], bins=10, color='skyblue', edgecolor='black')\n",
    "plt.xlabel(\"salary\")\n",
    "plt.ylabel('Frequency')\n",
    "plt.title('Histogram of {}'.format(\"salary\"))\n",
    "plt.show()"
   ]
  },
  {
   "cell_type": "code",
   "execution_count": 53,
   "id": "bf693335",
   "metadata": {},
   "outputs": [
    {
     "data": {
      "image/png": "[encoded data removed]",
      "text/plain": [
       "<Figure size 1000x600 with 1 Axes>"
      ]
     },
     "metadata": {},
     "output_type": "display_data"
    }
   ],
   "source": [
    "salaryln = np.log(baseball[\"salary\"])\n",
    "\n",
    "plt.figure(figsize=(10, 6))\n",
    "plt.hist(salaryln, bins=10, color='skyblue', edgecolor='black')\n",
    "plt.xlabel(\"ln of salary\")\n",
    "plt.ylabel('Frequency')\n",
    "plt.title('Histogram of {}'.format(\"salary (ln)\"))\n",
    "plt.show()"
   ]
  },
  {
   "cell_type": "markdown",
   "id": "6490ae95",
   "metadata": {},
   "source": [
    "The ln of the salaries is a better metric for quantifying salary, as the data is more evenly distributed. The unchanged salary data is heavily skewed towards 0, as only a few players make a lot of money. It is better to use the natural log of the salaries for our ML model, as the data is nicely spread out and unskewed. "
   ]
  },
  {
   "cell_type": "code",
   "execution_count": 54,
   "id": "5120889d",
   "metadata": {},
   "outputs": [
    {
     "name": "stdout",
     "output_type": "stream",
     "text": [
      "<class 'pandas.core.frame.DataFrame'>\n",
      "RangeIndex: 337 entries, 0 to 336\n",
      "Data columns (total 18 columns):\n",
      " #   Column            Non-Null Count  Dtype  \n",
      "---  ------            --------------  -----  \n",
      " 0   salary            337 non-null    int64  \n",
      " 1   batting.avg       337 non-null    float64\n",
      " 2   OBP               337 non-null    float64\n",
      " 3   runs              337 non-null    int64  \n",
      " 4   hits              337 non-null    int64  \n",
      " 5   doubles           337 non-null    int64  \n",
      " 6   triples           337 non-null    int64  \n",
      " 7   homeruns          337 non-null    int64  \n",
      " 8   RBI               337 non-null    int64  \n",
      " 9   walks             337 non-null    int64  \n",
      " 10  strike.outs       337 non-null    int64  \n",
      " 11  stolen.bases      337 non-null    int64  \n",
      " 12  errors            337 non-null    int64  \n",
      " 13  free.agency.elig  337 non-null    int64  \n",
      " 14  free.agent.91     337 non-null    int64  \n",
      " 15  arb.elig          337 non-null    int64  \n",
      " 16  arb.91            337 non-null    int64  \n",
      " 17  name              337 non-null    object \n",
      "dtypes: float64(2), int64(15), object(1)\n",
      "memory usage: 47.5+ KB\n"
     ]
    }
   ],
   "source": [
    "baseball.info()"
   ]
  },
  {
   "cell_type": "markdown",
   "id": "3152bcf4",
   "metadata": {},
   "source": [
    "The data does not have any missing values, as indicated by the non-null count of each column displayed in the info() function. The predictors consists of the following numerical types: 3 continuous (bat avg, OBP, RBI), 9 integer counts (runs, hits, doubles, triples, homeruns, walks, strikeouts, stolen bases, errors), 5 categorical (free agency elig, free agency 91, arb elig, arb 91, name). Since we will not be using the name column for our predictions, we can drop it, making the number of categorical variables 4 instead of 5. "
   ]
  },
  {
   "cell_type": "code",
   "execution_count": 55,
   "id": "c3e26034",
   "metadata": {},
   "outputs": [],
   "source": [
    "baseball = baseball.drop(\"name\", axis = 1)"
   ]
  },
  {
   "cell_type": "markdown",
   "id": "1e9c8fcd",
   "metadata": {},
   "source": [
    "## Step 2: Linear Regression with variable selection and Regularization"
   ]
  },
  {
   "cell_type": "code",
   "execution_count": 56,
   "id": "f3986af7",
   "metadata": {},
   "outputs": [],
   "source": [
    "X = baseball.drop(\"salary\", axis = 1)\n",
    "y = salaryln\n",
    "\n",
    "from sklearn.model_selection import train_test_split\n",
    "X_train, X_test, y_train, y_test = train_test_split(X, y, test_size= 1/3, random_state=42)\n",
    "feature_names = baseball.columns.tolist()"
   ]
  },
  {
   "cell_type": "code",
   "execution_count": 57,
   "id": "96fe6c80",
   "metadata": {},
   "outputs": [
    {
     "name": "stdout",
     "output_type": "stream",
     "text": [
      "Lasso Regression - Selected Variables: ['OBP', 'runs', 'hits', 'triples', 'homeruns', 'RBI', 'walks', 'strike.outs', 'stolen.bases', 'errors', 'free.agent.91']\n",
      "Lasso Regression - Coefficients: [-5.06095323e-03  7.96217923e-03 -1.07446652e-03  7.09663132e-03\n",
      "  9.97867422e-03  5.14122367e-03 -4.00604774e-03  2.22408322e-03\n",
      " -1.10369853e-02  1.16796513e+00  8.45172582e-01]\n"
     ]
    }
   ],
   "source": [
    "from sklearn.linear_model import LassoCV\n",
    "\n",
    "# Fit Lasso Regression\n",
    "lasso = LassoCV(random_state=42)\n",
    "lasso.fit(X_train, y_train)\n",
    "\n",
    "# Selected features and corresponding coefficients\n",
    "lasso_selected_variables = [i for i, coef in enumerate(lasso.coef_) if coef != 0]\n",
    "lasso_coefficients = lasso.coef_[lasso_selected_variables]\n",
    "\n",
    "#Output which features were selected and their coefficients\n",
    "lasso_features = [feature_names[i] for i in lasso_selected_variables]\n",
    "print(\"Lasso Regression - Selected Variables:\", lasso_features)\n",
    "print(\"Lasso Regression - Coefficients:\", lasso_coefficients)"
   ]
  },
  {
   "cell_type": "code",
   "execution_count": 58,
   "id": "7212c5f6",
   "metadata": {},
   "outputs": [
    {
     "name": "stdout",
     "output_type": "stream",
     "text": [
      "Lasso Regression - Selected Variables: ['salary', 'batting.avg', 'OBP', 'runs', 'hits', 'doubles', 'triples', 'homeruns', 'RBI', 'walks', 'strike.outs', 'stolen.bases', 'errors', 'free.agency.elig', 'free.agent.91', 'arb.elig']\n",
      "Lasso Regression - Coefficients: [-0.23770188 -0.28479209 -0.00718479  0.00813509 -0.0040816  -0.01170768\n",
      "  0.00419742  0.0100036   0.00539888 -0.00330066  0.00348827 -0.01192734\n",
      "  1.62436446 -0.40739916  1.29036208 -0.08642479]\n"
     ]
    }
   ],
   "source": [
    "from sklearn.linear_model import RidgeCV\n",
    "\n",
    "# Fit Ridge Regression\n",
    "ridge = RidgeCV()\n",
    "ridge.fit(X_train, y_train)\n",
    "\n",
    "# Selected features and corresponding coefficients\n",
    "ridge_selected_variables = [i for i, coef in enumerate(ridge.coef_) if coef != 0]\n",
    "ridge_coefficients = ridge.coef_[ridge_selected_variables]\n",
    "\n",
    "#Output which features were selected and their coefficients\n",
    "ridge_features = [feature_names[i] for i in ridge_selected_variables]\n",
    "print(\"Lasso Regression - Selected Variables:\", ridge_features)\n",
    "print(\"Lasso Regression - Coefficients:\", ridge_coefficients)"
   ]
  },
  {
   "cell_type": "code",
   "execution_count": 59,
   "id": "8f22eea4",
   "metadata": {},
   "outputs": [
    {
     "name": "stdout",
     "output_type": "stream",
     "text": [
      "Lasso Regression - Selected Variables: ['OBP', 'runs', 'hits', 'triples', 'homeruns', 'RBI', 'walks', 'strike.outs', 'stolen.bases', 'errors', 'free.agent.91']\n",
      "Lasso Regression - Coefficients: [-0.00497252  0.0094309  -0.00288074  0.00872511  0.01004131  0.0054956\n",
      " -0.00459972  0.00157519 -0.01090474  0.87064148  0.53632966]\n"
     ]
    }
   ],
   "source": [
    "from sklearn.linear_model import ElasticNetCV\n",
    "\n",
    "#Fit Elastic Net Regression\n",
    "elastic_net = ElasticNetCV()  \n",
    "elastic_net.fit(X_train, y_train)\n",
    "\n",
    "#Selected features and corresponding coefficients\n",
    "elastic_net_selected_variables = [i for i, coef in enumerate(elastic_net.coef_) if coef != 0]\n",
    "elastic_net_coefficients = elastic_net.coef_[elastic_net_selected_variables]\n",
    "\n",
    "#Output which features were selected and their coefficients\n",
    "elastic_net_features = [feature_names[i] for i in elastic_net_selected_variables]\n",
    "print(\"Lasso Regression - Selected Variables:\", elastic_net_features)\n",
    "print(\"Lasso Regression - Coefficients:\", elastic_net_coefficients)"
   ]
  },
  {
   "cell_type": "code",
   "execution_count": 60,
   "id": "19499924",
   "metadata": {},
   "outputs": [
    {
     "name": "stdout",
     "output_type": "stream",
     "text": [
      "Lasso Regression MSE: 0.32530531457400436\n",
      "Ridge Regression MSE: 0.33334832111181945\n",
      "Elastic Net MSE: 0.3752280797689328\n",
      "Best Model: Lasso Regression\n"
     ]
    }
   ],
   "source": [
    "from sklearn.metrics import mean_squared_error\n",
    "\n",
    "# Predictions\n",
    "lasso_predictions = lasso.predict(X_test)\n",
    "ridge_predictions = ridge.predict(X_test)\n",
    "elastic_net_predictions = elastic_net.predict(X_test)\n",
    "\n",
    "# Calculate MSE\n",
    "lasso_mse = mean_squared_error(y_test, lasso_predictions)\n",
    "ridge_mse = mean_squared_error(y_test, ridge_predictions)\n",
    "elastic_net_mse = mean_squared_error(y_test, elastic_net_predictions)\n",
    "\n",
    "print(\"Lasso Regression MSE:\", lasso_mse)\n",
    "print(\"Ridge Regression MSE:\", ridge_mse)\n",
    "print(\"Elastic Net MSE:\", elastic_net_mse)\n",
    "\n",
    "# Identify the best model\n",
    "best_model = min(lasso_mse, ridge_mse, elastic_net_mse)\n",
    "if best_model == lasso_mse:\n",
    "    print(\"Best Model: Lasso Regression\")\n",
    "elif best_model == ridge_mse:\n",
    "    print(\"Best Model: Ridge Regression\")\n",
    "else:\n",
    "    print(\"Best Model: Elastic Net\")\n"
   ]
  },
  {
   "cell_type": "markdown",
   "id": "78db3749",
   "metadata": {},
   "source": [
    "## Refit model using all data"
   ]
  },
  {
   "cell_type": "code",
   "execution_count": 61,
   "id": "d51d86bc",
   "metadata": {},
   "outputs": [
    {
     "name": "stdout",
     "output_type": "stream",
     "text": [
      "Final Fit - Selected Variables: ['runs', 'doubles', 'triples', 'homeruns', 'RBI', 'walks', 'strike.outs', 'stolen.bases', 'errors', 'free.agent.91']\n",
      "Final Fit - Coefficients: [ 0.00632949 -0.0042244   0.00882314  0.00960483  0.00410566 -0.00587472\n",
      "  0.00384325 -0.00650525  1.12326899  0.81001264]\n"
     ]
    }
   ],
   "source": [
    "#Fit data to new model\n",
    "fit_final = LassoCV(random_state=42)\n",
    "fit_final.fit(X, y)\n",
    "\n",
    "# Selected features and corresponding coefficients\n",
    "fit_final_selected_variables = [i for i, coef in enumerate(fit_final.coef_) if coef != 0]\n",
    "fit_final_coefficients = fit_final.coef_[fit_final_selected_variables]\n",
    "\n",
    "#Output which features were selected and their coefficients\n",
    "fit_final_features = [feature_names[i] for i in fit_final_selected_variables]\n",
    "print(\"Final Fit - Selected Variables:\", fit_final_features)\n",
    "print(\"Final Fit - Coefficients:\", fit_final_coefficients)"
   ]
  },
  {
   "cell_type": "markdown",
   "id": "b5b33f44",
   "metadata": {},
   "source": [
    "## Model Deployment"
   ]
  },
  {
   "cell_type": "code",
   "execution_count": 62,
   "id": "e5673677",
   "metadata": {},
   "outputs": [
    {
     "data": {
      "text/html": [
       "<div>\n",
       "<style scoped>\n",
       "    .dataframe tbody tr th:only-of-type {\n",
       "        vertical-align: middle;\n",
       "    }\n",
       "\n",
       "    .dataframe tbody tr th {\n",
       "        vertical-align: top;\n",
       "    }\n",
       "\n",
       "    .dataframe thead th {\n",
       "        text-align: right;\n",
       "    }\n",
       "</style>\n",
       "<table border=\"1\" class=\"dataframe\">\n",
       "  <thead>\n",
       "    <tr style=\"text-align: right;\">\n",
       "      <th></th>\n",
       "      <th>batting.avg</th>\n",
       "      <th>OBP</th>\n",
       "      <th>runs</th>\n",
       "      <th>hits</th>\n",
       "      <th>doubles</th>\n",
       "      <th>triples</th>\n",
       "      <th>homeruns</th>\n",
       "      <th>RBI</th>\n",
       "      <th>walks</th>\n",
       "      <th>strike.outs</th>\n",
       "      <th>stolen.bases</th>\n",
       "      <th>errors</th>\n",
       "      <th>free.agency.elig</th>\n",
       "      <th>free.agent.91</th>\n",
       "      <th>arb.elig</th>\n",
       "      <th>arb.91</th>\n",
       "    </tr>\n",
       "  </thead>\n",
       "  <tbody>\n",
       "    <tr>\n",
       "      <th>0</th>\n",
       "      <td>0.234</td>\n",
       "      <td>0.346</td>\n",
       "      <td>51</td>\n",
       "      <td>45</td>\n",
       "      <td>19</td>\n",
       "      <td>2</td>\n",
       "      <td>9</td>\n",
       "      <td>50</td>\n",
       "      <td>37</td>\n",
       "      <td>133</td>\n",
       "      <td>34</td>\n",
       "      <td>10</td>\n",
       "      <td>0</td>\n",
       "      <td>0</td>\n",
       "      <td>0</td>\n",
       "      <td>0</td>\n",
       "    </tr>\n",
       "    <tr>\n",
       "      <th>1</th>\n",
       "      <td>0.281</td>\n",
       "      <td>0.354</td>\n",
       "      <td>67</td>\n",
       "      <td>70</td>\n",
       "      <td>11</td>\n",
       "      <td>0</td>\n",
       "      <td>1</td>\n",
       "      <td>8</td>\n",
       "      <td>25</td>\n",
       "      <td>65</td>\n",
       "      <td>4</td>\n",
       "      <td>9</td>\n",
       "      <td>1</td>\n",
       "      <td>0</td>\n",
       "      <td>0</td>\n",
       "      <td>0</td>\n",
       "    </tr>\n",
       "    <tr>\n",
       "      <th>2</th>\n",
       "      <td>0.243</td>\n",
       "      <td>0.350</td>\n",
       "      <td>84</td>\n",
       "      <td>102</td>\n",
       "      <td>30</td>\n",
       "      <td>0</td>\n",
       "      <td>4</td>\n",
       "      <td>50</td>\n",
       "      <td>65</td>\n",
       "      <td>107</td>\n",
       "      <td>41</td>\n",
       "      <td>5</td>\n",
       "      <td>1</td>\n",
       "      <td>0</td>\n",
       "      <td>0</td>\n",
       "      <td>0</td>\n",
       "    </tr>\n",
       "    <tr>\n",
       "      <th>3</th>\n",
       "      <td>0.286</td>\n",
       "      <td>0.138</td>\n",
       "      <td>10</td>\n",
       "      <td>140</td>\n",
       "      <td>4</td>\n",
       "      <td>4</td>\n",
       "      <td>8</td>\n",
       "      <td>11</td>\n",
       "      <td>23</td>\n",
       "      <td>48</td>\n",
       "      <td>6</td>\n",
       "      <td>0</td>\n",
       "      <td>0</td>\n",
       "      <td>0</td>\n",
       "      <td>0</td>\n",
       "      <td>0</td>\n",
       "    </tr>\n",
       "    <tr>\n",
       "      <th>4</th>\n",
       "      <td>0.194</td>\n",
       "      <td>0.339</td>\n",
       "      <td>38</td>\n",
       "      <td>113</td>\n",
       "      <td>16</td>\n",
       "      <td>3</td>\n",
       "      <td>0</td>\n",
       "      <td>34</td>\n",
       "      <td>5</td>\n",
       "      <td>60</td>\n",
       "      <td>0</td>\n",
       "      <td>6</td>\n",
       "      <td>0</td>\n",
       "      <td>0</td>\n",
       "      <td>0</td>\n",
       "      <td>0</td>\n",
       "    </tr>\n",
       "  </tbody>\n",
       "</table>\n",
       "</div>"
      ],
      "text/plain": [
       "   batting.avg    OBP  runs  hits  doubles  triples  homeruns  RBI  walks  \\\n",
       "0        0.234  0.346    51    45       19        2         9   50     37   \n",
       "1        0.281  0.354    67    70       11        0         1    8     25   \n",
       "2        0.243  0.350    84   102       30        0         4   50     65   \n",
       "3        0.286  0.138    10   140        4        4         8   11     23   \n",
       "4        0.194  0.339    38   113       16        3         0   34      5   \n",
       "\n",
       "   strike.outs  stolen.bases  errors  free.agency.elig  free.agent.91  \\\n",
       "0          133            34      10                 0              0   \n",
       "1           65             4       9                 1              0   \n",
       "2          107            41       5                 1              0   \n",
       "3           48             6       0                 0              0   \n",
       "4           60             0       6                 0              0   \n",
       "\n",
       "   arb.elig  arb.91  \n",
       "0         0       0  \n",
       "1         0       0  \n",
       "2         0       0  \n",
       "3         0       0  \n",
       "4         0       0  "
      ]
     },
     "execution_count": 62,
     "metadata": {},
     "output_type": "execute_result"
    }
   ],
   "source": [
    "new_baseball = pd.read_csv('bb92-test.csv')\n",
    "new_baseball.head()"
   ]
  },
  {
   "cell_type": "code",
   "execution_count": 63,
   "id": "747c0313",
   "metadata": {},
   "outputs": [
    {
     "data": {
      "image/png": "[encoded data removed]",
      "text/plain": [
       "<Figure size 1000x600 with 1 Axes>"
      ]
     },
     "metadata": {},
     "output_type": "display_data"
    }
   ],
   "source": [
    "# Predict the log-salary using the final model\n",
    "predicted_logsalary = fit_final.predict(new_baseball)\n",
    "\n",
    "# Transform the log-salary values back to regular salary values\n",
    "predicted_salary = np.exp(predicted_logsalary)\n",
    "\n",
    "\n",
    "# Create a bar plot for the predicted salaries with player indices as ticks\n",
    "player_indices = np.arange(len(predicted_salary))  # Player indices from 0 to 19\n",
    "player_indices += 1\n",
    "plt.figure(figsize=(10, 6))\n",
    "plt.bar(player_indices, predicted_salary * 1000, color='b', label='Predicted Salary')\n",
    "plt.xlabel('Players')\n",
    "plt.ylabel('Salary')\n",
    "plt.title('Predicted Salaries for New Players')\n",
    "plt.xticks(player_indices, player_indices)  # Set player indices as ticks on the X-axis\n",
    "plt.tight_layout()\n",
    "plt.show()"
   ]
  },
  {
   "cell_type": "markdown",
   "id": "048076c9",
   "metadata": {},
   "source": [
    "Since we do not have the actual salaries of these players, we cannot determine our model's accuracy or make an error bar plot. However, we can make a plot of the player's individual expected salaries. It looks like the 13th player in our dataset is going to be a very successful player, and make about 2.5 million dollars!"
   ]
  },
  {
   "cell_type": "code",
   "execution_count": 64,
   "id": "42410dca",
   "metadata": {},
   "outputs": [
    {
     "data": {
      "text/plain": [
       "batting.avg           0.225\n",
       "OBP                   0.322\n",
       "runs                 25.000\n",
       "hits                174.000\n",
       "doubles               6.000\n",
       "triples               1.000\n",
       "homeruns              1.000\n",
       "RBI                  62.000\n",
       "walks                30.000\n",
       "strike.outs          24.000\n",
       "stolen.bases         15.000\n",
       "errors                9.000\n",
       "free.agency.elig      1.000\n",
       "free.agent.91         0.000\n",
       "arb.elig              0.000\n",
       "arb.91                0.000\n",
       "Name: 12, dtype: float64"
      ]
     },
     "execution_count": 64,
     "metadata": {},
     "output_type": "execute_result"
    }
   ],
   "source": [
    "new_baseball.iloc[12] #This is the 13th player's stats"
   ]
  }
 ],
 "metadata": {
  "kernelspec": {
   "display_name": "Python 3 (ipykernel)",
   "language": "python",
   "name": "python3"
  },
  "language_info": {
   "codemirror_mode": {
    "name": "ipython",
    "version": 3
   },
   "file_extension": ".py",
   "mimetype": "text/x-python",
   "name": "python",
   "nbconvert_exporter": "python",
   "pygments_lexer": "ipython3",
   "version": "3.10.12"
  }
 },
 "nbformat": 4,
 "nbformat_minor": 5
}
