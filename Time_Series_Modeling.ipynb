{
 "cells": [
  {
   "cell_type": "markdown",
   "id": "a1af30a5",
   "metadata": {
    "papermill": {
     "duration": 0.026261,
     "end_time": "2022-10-12T17:17:14.539289",
     "exception": false,
     "start_time": "2022-10-12T17:17:14.513028",
     "status": "completed"
    },
    "tags": []
   },
   "source": [
    "\n",
    "# CMPS 320\n",
    "## Lab 11: Time Series Analysis 📈"
   ]
  },
  {
   "cell_type": "markdown",
   "id": "60d453cf",
   "metadata": {
    "papermill": {
     "duration": 0.02128,
     "end_time": "2022-10-12T17:17:14.647699",
     "exception": false,
     "start_time": "2022-10-12T17:17:14.626419",
     "status": "completed"
    },
    "tags": []
   },
   "source": [
    "# What is Time Series Data and its Types?\n",
    "\n",
    "**Before jumping right into Time Series Ananlysis , lets first understand what is Time Series Data.**\n",
    "\n",
    "* Time-series data is a collection of data points over a set period. Plot the points on a graph, and one of your axes would always be time.\n",
    "* What sets time series data apart from other data is that the analysis can show how variables change over time. \n",
    "* The frequency of recorded data points may be hourly, daily, weekly, monthly, quarterly or annually.\n",
    "* In other words, time is a crucial variable because it shows how the data adjusts over the course of the data points as well as the final results. \n",
    " It provides an additional source of information and a set order of dependencies between the data.\n",
    "\n",
    "* The time series data may be of three types:-\n",
    "1.  **Time series data** - The observations of the values of a variable recorded at different points in time is called time series data.\n",
    "1.  **Cross sectional data** - It is the data of one or more variables recorded at the same point in time. Ex:-gross annual income for each of 1000 randomly chosen households in New York City for the year 2000.\n",
    "1.  **Pooled data**- It is the combination of time series data and cross sectional data.\n",
    "\n",
    "![Example](https://miro.medium.com/max/1286/1*16ZVajQnFAAs_wHM99jiaA.png)"
   ]
  },
  {
   "cell_type": "markdown",
   "id": "e27d1f3d",
   "metadata": {
    "papermill": {
     "duration": 0.02122,
     "end_time": "2022-10-12T17:17:14.690585",
     "exception": false,
     "start_time": "2022-10-12T17:17:14.669365",
     "status": "completed"
    },
    "tags": []
   },
   "source": [
    "# What is Time Series Analysis ? \n",
    "\n",
    "**Now that we have understood what Time Series data means .. lets understand what is Time Series analysis?**\n",
    "* Time-series analysis is a method of analyzing data to extract useful statistical information and characteristics. \n",
    "* A time series analysis encompasses statistical methods for analyzing time series data. These methods enable us to extract meaningful statistics, patterns and other characteristics of the data. \n",
    "* Time series are visualized with the help of line charts. So, time series analysis involves understanding inherent aspects of the time series data so that we can create meaningful and accurate forecasts.\n",
    "* One of the study's main goals is to predict future value.\n",
    "\n",
    "Examples of time series analysis:\n",
    "\n",
    "    Electrical activity in the brain\n",
    "    Rainfall measurements\n",
    "    Stock prices\n",
    "    Number of sunspots\n",
    "    Annual retail sales\n",
    "    Monthly subscribers\n",
    "    Heartbeats per minute\n",
    "    \n",
    "# Why organizations use time series data analysis?\n",
    "\n",
    "* Time series analysis helps organizations understand the underlying causes of trends or systemic patterns over time. \n",
    "* Using data visualizations, business users can see seasonal trends and dig deeper into why these trends occur.\n",
    "* When organizations analyze data over consistent intervals, they can also use time series forecasting to predict the likelihood of future events.  "
   ]
  },
  {
   "cell_type": "markdown",
   "id": "9b18f16c",
   "metadata": {
    "papermill": {
     "duration": 0.021359,
     "end_time": "2022-10-12T17:17:14.733761",
     "exception": false,
     "start_time": "2022-10-12T17:17:14.712402",
     "status": "completed"
    },
    "tags": []
   },
   "source": [
    "# Time Series Analysis Types\n",
    "\n",
    "Some of the models of time series analysis include - \n",
    "\n",
    "**1 Classification**: It identifies and assigns categories to the data.\n",
    "\n",
    "**2 Curve Fitting**: It plots data on a curve to investigate the relationships between variables in the data.\n",
    "\n",
    "**3 Descriptive Analysis**: Patterns in time-series data, such as trends, cycles, and seasonal variation, are identified.\n",
    "\n",
    "**4 Explanative analysis**: It attempts to comprehend the data and the relationships between it and cause and effect.\n",
    "\n",
    "**5 Segmentation**: It splits the data into segments to reveal the source data's underlying properties. \n"
   ]
  },
  {
   "cell_type": "markdown",
   "id": "020708ce",
   "metadata": {
    "papermill": {
     "duration": 0.021151,
     "end_time": "2022-10-12T17:17:14.776522",
     "exception": false,
     "start_time": "2022-10-12T17:17:14.755371",
     "status": "completed"
    },
    "tags": []
   },
   "source": [
    "# Components of a Time-Series\n",
    "\n",
    "1. **Trend** - The trend shows a general direction of the time series data over a long period of time. A trend can be increasing(upward), decreasing(downward), or horizontal(stationary).\n",
    "1. **Seasonality** - The seasonality component exhibits a trend that repeats with respect to timing, direction, and magnitude. Some examples include an increase in water consumption in summer due to hot weather conditions.\n",
    "1. **Noise** - Outliers or missing values\n",
    "1. **Cyclical Component** - These are the trends with no set repetition over a particular period of time. A cycle refers to the period of ups and downs, booms and slums of a time series, mostly observed in business cycles. These cycles do not exhibit a seasonal variation but generally occur over a time period of 3 to 12 years depending on the nature of the time series.\n",
    "1. **Irregular Variation** - These are the fluctuations in the time series data which become evident when trend and cyclical variations are removed. These variations are unpredictable, erratic, and may or may not be random.\n",
    "1. **ETS Decomposition** - ETS Decomposition is used to separate different components of a time series. The term ETS stands for Error, Trend and Seasonality.\n",
    "\n",
    "![](https://editor.analyticsvidhya.com/uploads/89638Everything%20in%20a%20single%20picture_2.jpg)"
   ]
  },
  {
   "cell_type": "markdown",
   "id": "e78c794f",
   "metadata": {
    "papermill": {
     "duration": 0.021033,
     "end_time": "2022-10-12T17:17:14.820097",
     "exception": false,
     "start_time": "2022-10-12T17:17:14.799064",
     "status": "completed"
    },
    "tags": []
   },
   "source": [
    "**In this notebook we will work on Stock market prediction using S&P 500 historical data**"
   ]
  },
  {
   "cell_type": "code",
   "execution_count": null,
   "id": "9da4d51e",
   "metadata": {
    "_kg_hide-output": true,
    "execution": {
     "iopub.execute_input": "2022-10-12T17:17:14.865166Z",
     "iopub.status.busy": "2022-10-12T17:17:14.864706Z",
     "iopub.status.idle": "2022-10-12T17:17:30.907147Z",
     "shell.execute_reply": "2022-10-12T17:17:30.905961Z"
    },
    "papermill": {
     "duration": 16.068478,
     "end_time": "2022-10-12T17:17:30.909970",
     "exception": false,
     "start_time": "2022-10-12T17:17:14.841492",
     "status": "completed"
    },
    "tags": []
   },
   "outputs": [],
   "source": [
    "# Install the auto_arima module from pmdarima package and Tensor flow for deep learning\n",
    "#!pip install pmdarima\n",
    "# pip install tensorflow"
   ]
  },
  {
   "cell_type": "code",
   "execution_count": null,
   "id": "36858168",
   "metadata": {
    "_cell_guid": "b1076dfc-b9ad-4769-8c92-a6c4dae69d19",
    "_uuid": "8f2839f25d086af736a60e9eeb907d3b93b6e0e5",
    "execution": {
     "iopub.execute_input": "2022-10-12T17:17:30.959339Z",
     "iopub.status.busy": "2022-10-12T17:17:30.958924Z",
     "iopub.status.idle": "2022-10-12T17:17:41.156888Z",
     "shell.execute_reply": "2022-10-12T17:17:41.155367Z"
    },
    "papermill": {
     "duration": 10.225725,
     "end_time": "2022-10-12T17:17:41.159799",
     "exception": false,
     "start_time": "2022-10-12T17:17:30.934074",
     "status": "completed"
    },
    "tags": []
   },
   "outputs": [],
   "source": [
    "# importing libraries\n",
    "\n",
    "import os\n",
    "import pandas as pd\n",
    "import numpy as np\n",
    "from math import sqrt\n",
    "from datetime import datetime\n",
    "import matplotlib.pyplot as plt\n",
    "import seaborn as sns\n",
    "from sklearn.preprocessing import MinMaxScaler\n",
    "\n",
    "import warnings\n",
    "warnings.filterwarnings('ignore')\n",
    "\n",
    "#All necessary plotly libraries\n",
    "import plotly as plotly\n",
    "import plotly.io as plotly\n",
    "import plotly.graph_objects as go\n",
    "import plotly.express as px\n",
    "from plotly.subplots import make_subplots\n",
    "from plotly.offline import download_plotlyjs, init_notebook_mode, plot, iplot\n",
    "\n",
    "# stats tools\n",
    "import statsmodels.api as sm\n",
    "from statsmodels.tsa.stattools import adfuller\n",
    "from statsmodels.tsa.seasonal import seasonal_decompose\n",
    "from statsmodels.tsa.arima.model import ARIMA\n",
    "from statsmodels.graphics.tsaplots import plot_acf, plot_pacf\n",
    "\n",
    "# Arima Model\n",
    "from pmdarima.arima import auto_arima\n",
    "\n",
    "# metrics\n",
    "from sklearn.metrics import mean_squared_error, mean_absolute_error\n",
    "import math\n",
    "\n",
    "# LSTM\n",
    "\n",
    "from tensorflow import keras\n",
    "from tensorflow.keras.layers import Dense,LSTM,Dropout,Flatten\n",
    "from tensorflow.keras import Sequential"
   ]
  },
  {
   "cell_type": "markdown",
   "id": "4a670fac",
   "metadata": {
    "papermill": {
     "duration": 0.023075,
     "end_time": "2022-10-12T17:17:41.206291",
     "exception": false,
     "start_time": "2022-10-12T17:17:41.183216",
     "status": "completed"
    },
    "tags": []
   },
   "source": [
    "# Loading the dataset "
   ]
  },
  {
   "cell_type": "code",
   "execution_count": null,
   "id": "48721bac",
   "metadata": {
    "execution": {
     "iopub.execute_input": "2022-10-12T17:17:41.255083Z",
     "iopub.status.busy": "2022-10-12T17:17:41.254212Z",
     "iopub.status.idle": "2022-10-12T17:17:41.352396Z",
     "shell.execute_reply": "2022-10-12T17:17:41.351096Z"
    },
    "papermill": {
     "duration": 0.125421,
     "end_time": "2022-10-12T17:17:41.354883",
     "exception": false,
     "start_time": "2022-10-12T17:17:41.229462",
     "status": "completed"
    },
    "scrolled": true,
    "tags": []
   },
   "outputs": [],
   "source": [
    "# Reading the dataset\n",
    "df = pd.read_csv(\"SPX.csv\")\n",
    "df.shape"
   ]
  },
  {
   "cell_type": "code",
   "execution_count": null,
   "id": "661a0b08",
   "metadata": {
    "scrolled": true
   },
   "outputs": [],
   "source": [
    "df.head()\n",
    "\n",
    "# Here u can notice that our initial trading date is \"1927-12-30\" but with 0 stocks traded."
   ]
  },
  {
   "cell_type": "markdown",
   "id": "3035e555",
   "metadata": {
    "papermill": {
     "duration": 0.022825,
     "end_time": "2022-10-12T17:17:41.401527",
     "exception": false,
     "start_time": "2022-10-12T17:17:41.378702",
     "status": "completed"
    },
    "tags": []
   },
   "source": [
    "Before getting started with the visualization part lets understand the meaning of these feature terms :-\n",
    "\n",
    "* **Open** -> Open means the price at which a stock started trading when the opening bell rang.\n",
    "* **Close** -> Close refers to the price of an individual stock when the stock exchange closed shop for the day. It represents the last buy-sell order executed between two traders\n",
    "* **High** -> The high is the highest price at which a stock is traded during a period. \n",
    "* **Low** -> The low is the lowest price of the period.\n",
    "* **Adj Close** -> Adjusted values factor in corporate actions such as dividends, stock splits, and new share issuance\n",
    "* **Volume** -> Volume is the total number of shares traded in a security period. \n",
    "\n",
    "**Why is a Stock’s Closing Price Significant?**\n",
    "\n",
    "* Stock’s closing price determines how a share performs during the day.\n",
    "* **When researching historical stock price data**, financial institutions, regulators, and individual investors **use the closing price as the standard measure of the stock’s value as of a specific date**. For example, a stock’s close on December 31, 2019, was the closing price for that day and that week, month, quarter, and year.\n",
    "* The difference between the stocks open and close divided by the open is the **stock’s return or performance in percentage terms**."
   ]
  },
  {
   "cell_type": "code",
   "execution_count": null,
   "id": "cc5ee867",
   "metadata": {
    "execution": {
     "iopub.execute_input": "2022-10-12T17:17:41.452508Z",
     "iopub.status.busy": "2022-10-12T17:17:41.452056Z",
     "iopub.status.idle": "2022-10-12T17:17:41.467011Z",
     "shell.execute_reply": "2022-10-12T17:17:41.466018Z"
    },
    "papermill": {
     "duration": 0.042988,
     "end_time": "2022-10-12T17:17:41.469452",
     "exception": false,
     "start_time": "2022-10-12T17:17:41.426464",
     "status": "completed"
    },
    "scrolled": true,
    "tags": []
   },
   "outputs": [],
   "source": [
    "df.tail()\n",
    "# Here u can notice that our final trading date is \"2020-11-04\" but with 4783040000 stocks traded.\n",
    "# Here u can also notice that our time series data almost has daily interval."
   ]
  },
  {
   "cell_type": "code",
   "execution_count": null,
   "id": "c56317a0",
   "metadata": {},
   "outputs": [],
   "source": [
    "# Checking the data types of  columns\n",
    "# checking the count of null values -> 0 \n",
    "df.info()"
   ]
  },
  {
   "cell_type": "code",
   "execution_count": null,
   "id": "5b94fe30",
   "metadata": {
    "execution": {
     "iopub.execute_input": "2022-10-12T17:17:41.519907Z",
     "iopub.status.busy": "2022-10-12T17:17:41.519353Z",
     "iopub.status.idle": "2022-10-12T17:17:41.538309Z",
     "shell.execute_reply": "2022-10-12T17:17:41.537287Z"
    },
    "papermill": {
     "duration": 0.047915,
     "end_time": "2022-10-12T17:17:41.540960",
     "exception": false,
     "start_time": "2022-10-12T17:17:41.493045",
     "status": "completed"
    },
    "tags": []
   },
   "outputs": [],
   "source": [
    "# Here u notice that our date is of Object datatype so well convert it to datetime format\n",
    "df['Date'] = pd.to_datetime(df['Date'])"
   ]
  },
  {
   "cell_type": "code",
   "execution_count": null,
   "id": "a3ec4e12",
   "metadata": {
    "execution": {
     "iopub.execute_input": "2022-10-12T17:17:41.592664Z",
     "iopub.status.busy": "2022-10-12T17:17:41.591484Z",
     "iopub.status.idle": "2022-10-12T17:17:41.617648Z",
     "shell.execute_reply": "2022-10-12T17:17:41.616360Z"
    },
    "papermill": {
     "duration": 0.054505,
     "end_time": "2022-10-12T17:17:41.620043",
     "exception": false,
     "start_time": "2022-10-12T17:17:41.565538",
     "status": "completed"
    },
    "tags": []
   },
   "outputs": [],
   "source": [
    "df = df.set_index(df['Date']).sort_index() # setting date feature as our index\n",
    "print(df.shape)\n",
    "df.sample(5)"
   ]
  },
  {
   "cell_type": "code",
   "execution_count": null,
   "id": "f355a632",
   "metadata": {
    "execution": {
     "iopub.execute_input": "2022-10-12T17:17:41.671076Z",
     "iopub.status.busy": "2022-10-12T17:17:41.669809Z",
     "iopub.status.idle": "2022-10-12T17:17:41.694652Z",
     "shell.execute_reply": "2022-10-12T17:17:41.692921Z"
    },
    "papermill": {
     "duration": 0.053142,
     "end_time": "2022-10-12T17:17:41.697610",
     "exception": false,
     "start_time": "2022-10-12T17:17:41.644468",
     "status": "completed"
    },
    "tags": []
   },
   "outputs": [],
   "source": [
    "# Checking the data types of  columns\n",
    "# checking the count of null values -> 0 \n",
    "df.info()"
   ]
  },
  {
   "cell_type": "code",
   "execution_count": null,
   "id": "7d0d5655",
   "metadata": {
    "execution": {
     "iopub.execute_input": "2022-10-12T17:17:41.751534Z",
     "iopub.status.busy": "2022-10-12T17:17:41.750620Z",
     "iopub.status.idle": "2022-10-12T17:17:42.204626Z",
     "shell.execute_reply": "2022-10-12T17:17:42.203378Z"
    },
    "papermill": {
     "duration": 0.483971,
     "end_time": "2022-10-12T17:17:42.207294",
     "exception": false,
     "start_time": "2022-10-12T17:17:41.723323",
     "status": "completed"
    },
    "tags": []
   },
   "outputs": [],
   "source": [
    "df['Volume'].plot(figsize=(15,5))\n",
    "# Here u can notice that the major stock market trading started from around Year 2000"
   ]
  },
  {
   "cell_type": "code",
   "execution_count": null,
   "id": "7398f51c",
   "metadata": {
    "execution": {
     "iopub.execute_input": "2022-10-12T17:17:42.261059Z",
     "iopub.status.busy": "2022-10-12T17:17:42.260635Z",
     "iopub.status.idle": "2022-10-12T17:17:42.279789Z",
     "shell.execute_reply": "2022-10-12T17:17:42.278841Z"
    },
    "papermill": {
     "duration": 0.049807,
     "end_time": "2022-10-12T17:17:42.282409",
     "exception": false,
     "start_time": "2022-10-12T17:17:42.232602",
     "status": "completed"
    },
    "tags": []
   },
   "outputs": [],
   "source": [
    "data = df[df['Volume']>0]\n",
    "data.head(3)\n",
    "\n",
    "# Here u can notice that the first stock market trading happened on \"1950-01-03\" with 1260000 Stocks being traded. "
   ]
  },
  {
   "cell_type": "code",
   "execution_count": null,
   "id": "114477c1",
   "metadata": {
    "execution": {
     "iopub.execute_input": "2022-10-12T17:17:42.336164Z",
     "iopub.status.busy": "2022-10-12T17:17:42.335199Z",
     "iopub.status.idle": "2022-10-12T17:17:42.355375Z",
     "shell.execute_reply": "2022-10-12T17:17:42.354532Z"
    },
    "papermill": {
     "duration": 0.04925,
     "end_time": "2022-10-12T17:17:42.357496",
     "exception": false,
     "start_time": "2022-10-12T17:17:42.308246",
     "status": "completed"
    },
    "tags": []
   },
   "outputs": [],
   "source": [
    "# We'll consider the stock data from 1987-10-28 onwards\n",
    "data = data.loc['1987-10-28':]\n",
    "data.shape"
   ]
  },
  {
   "cell_type": "code",
   "execution_count": null,
   "id": "cac78dcb",
   "metadata": {},
   "outputs": [],
   "source": [
    "data"
   ]
  },
  {
   "cell_type": "markdown",
   "id": "5418bdb6",
   "metadata": {
    "papermill": {
     "duration": 0.024871,
     "end_time": "2022-10-12T17:17:42.409257",
     "exception": false,
     "start_time": "2022-10-12T17:17:42.384386",
     "status": "completed"
    },
    "tags": []
   },
   "source": [
    "# Visualizing the Stock price Dataset 📈"
   ]
  },
  {
   "cell_type": "code",
   "execution_count": null,
   "id": "c51c80b5",
   "metadata": {
    "execution": {
     "iopub.execute_input": "2022-10-12T17:17:42.462164Z",
     "iopub.status.busy": "2022-10-12T17:17:42.460942Z",
     "iopub.status.idle": "2022-10-12T17:17:42.974857Z",
     "shell.execute_reply": "2022-10-12T17:17:42.973582Z"
    },
    "papermill": {
     "duration": 0.543186,
     "end_time": "2022-10-12T17:17:42.977502",
     "exception": false,
     "start_time": "2022-10-12T17:17:42.434316",
     "status": "completed"
    },
    "scrolled": true,
    "tags": []
   },
   "outputs": [],
   "source": [
    "data['Close'].plot(figsize=(15,5)) # Plotting the closing price"
   ]
  },
  {
   "cell_type": "code",
   "execution_count": null,
   "id": "a7f545b3",
   "metadata": {
    "execution": {
     "iopub.execute_input": "2022-10-12T17:17:43.031778Z",
     "iopub.status.busy": "2022-10-12T17:17:43.031344Z",
     "iopub.status.idle": "2022-10-12T17:17:43.246013Z",
     "shell.execute_reply": "2022-10-12T17:17:43.245050Z"
    },
    "papermill": {
     "duration": 0.244871,
     "end_time": "2022-10-12T17:17:43.248288",
     "exception": false,
     "start_time": "2022-10-12T17:17:43.003417",
     "status": "completed"
    },
    "scrolled": true,
    "tags": []
   },
   "outputs": [],
   "source": [
    "sns.kdeplot(data['Close'], shade=True) # Plots univariate distributions using kernel density estimation"
   ]
  },
  {
   "cell_type": "code",
   "execution_count": null,
   "id": "4cf9d6b8",
   "metadata": {
    "execution": {
     "iopub.execute_input": "2022-10-12T17:17:43.303674Z",
     "iopub.status.busy": "2022-10-12T17:17:43.303035Z",
     "iopub.status.idle": "2022-10-12T17:17:43.322870Z",
     "shell.execute_reply": "2022-10-12T17:17:43.321685Z"
    },
    "papermill": {
     "duration": 0.049839,
     "end_time": "2022-10-12T17:17:43.325125",
     "exception": false,
     "start_time": "2022-10-12T17:17:43.275286",
     "status": "completed"
    },
    "tags": []
   },
   "outputs": [],
   "source": [
    "# Adding Return Column\n",
    "\n",
    "data['Return'] = (data['Adj Close']-data['Open'])/data['Open']\n",
    "\n",
    "# making a copy for later use\n",
    "stocks_data = data.copy()\n",
    "\n",
    "data.sample(5)"
   ]
  },
  {
   "cell_type": "code",
   "execution_count": null,
   "id": "961b6ce3",
   "metadata": {
    "execution": {
     "iopub.execute_input": "2022-10-12T17:17:43.388195Z",
     "iopub.status.busy": "2022-10-12T17:17:43.387504Z",
     "iopub.status.idle": "2022-10-12T17:17:44.664140Z",
     "shell.execute_reply": "2022-10-12T17:17:44.662909Z"
    },
    "papermill": {
     "duration": 1.319481,
     "end_time": "2022-10-12T17:17:44.671033",
     "exception": false,
     "start_time": "2022-10-12T17:17:43.351552",
     "status": "completed"
    },
    "tags": []
   },
   "outputs": [],
   "source": [
    "# As mentioned earlier \"When researching historical stock price data,use the closing price as the standard measure of the stock’s value\"\n",
    "# so let's try visualising the close price of the dataset using plotly\n",
    "\n",
    "fig = px.line(data,x=\"Date\",y=\"Close\",title=\"Closing Price: Range Slider and Selectors\")\n",
    "fig.update_xaxes(rangeslider_visible=True,rangeselector=dict(\n",
    "    buttons=list([\n",
    "        dict(count=1,label=\"1m\",step=\"month\",stepmode=\"backward\"),\n",
    "        dict(count=6,label=\"6m\",step=\"month\",stepmode=\"backward\"),\n",
    "        dict(count=1,label=\"YTD\",step=\"year\",stepmode=\"todate\"),\n",
    "        dict(count=1,label=\"1y\",step=\"year\",stepmode=\"backward\"),\n",
    "        dict(step=\"all\")\n",
    "])))"
   ]
  },
  {
   "cell_type": "code",
   "execution_count": null,
   "id": "6bc7ef31",
   "metadata": {
    "execution": {
     "iopub.execute_input": "2022-10-12T17:17:44.739532Z",
     "iopub.status.busy": "2022-10-12T17:17:44.738877Z",
     "iopub.status.idle": "2022-10-12T17:17:44.986144Z",
     "shell.execute_reply": "2022-10-12T17:17:44.985017Z"
    },
    "papermill": {
     "duration": 0.28606,
     "end_time": "2022-10-12T17:17:44.990580",
     "exception": false,
     "start_time": "2022-10-12T17:17:44.704520",
     "status": "completed"
    },
    "tags": []
   },
   "outputs": [],
   "source": [
    "# Visualizing Returns\n",
    "\n",
    "fig = px.line(data,x=\"Date\",y=\"Return\",title=\"Returns : Range Slider and Selectors\")\n",
    "fig.update_xaxes(rangeslider_visible=True,rangeselector=dict(\n",
    "    buttons=list([\n",
    "        dict(count=1,label=\"1m\",step=\"month\",stepmode=\"backward\"),\n",
    "        dict(count=6,label=\"6m\",step=\"month\",stepmode=\"backward\"),\n",
    "        dict(count=1,label=\"YTD\",step=\"year\",stepmode=\"todate\"),\n",
    "        dict(count=1,label=\"1y\",step=\"year\",stepmode=\"backward\"),\n",
    "        dict(step=\"all\")\n",
    "])))"
   ]
  },
  {
   "cell_type": "markdown",
   "id": "34cdfcc7",
   "metadata": {
    "papermill": {
     "duration": 0.086837,
     "end_time": "2022-10-12T17:17:48.406541",
     "exception": false,
     "start_time": "2022-10-12T17:17:48.319704",
     "status": "completed"
    },
    "tags": []
   },
   "source": [
    "# Technical Indicators 🔼🔽 \n",
    "#### Indicators are best way to visualize a stock pattern.\n",
    "\n",
    "A list of technical indicators that are widely used by professionals and scholars, and those that are most beneficial in automated trading are:\n",
    "\n",
    "1. Simple Moving Average (Fast and Slow)\n",
    "\n",
    "2. Exponential Moving Average (Fast and Slow)\n"
   ]
  },
  {
   "cell_type": "markdown",
   "id": "4ec65f4b",
   "metadata": {
    "papermill": {
     "duration": 0.082696,
     "end_time": "2022-10-12T17:17:48.572891",
     "exception": false,
     "start_time": "2022-10-12T17:17:48.490195",
     "status": "completed"
    },
    "tags": []
   },
   "source": [
    "## Simple Moving Average\n",
    "\n",
    "* Simple Moving Average is one of the most common technical indicators. \n",
    "* SMA calculates the average of prices over a given interval of time and is used to determine the trend of the stock. \n",
    "* As defined above, I will create a slow SMA (SMA_15) and a fast SMA (SMA_5). \n",
    "* Here these numerical values represents the time interval like 15days."
   ]
  },
  {
   "cell_type": "code",
   "execution_count": null,
   "id": "f65e5711",
   "metadata": {
    "execution": {
     "iopub.execute_input": "2022-10-12T17:17:48.745727Z",
     "iopub.status.busy": "2022-10-12T17:17:48.745303Z",
     "iopub.status.idle": "2022-10-12T17:17:49.306416Z",
     "shell.execute_reply": "2022-10-12T17:17:49.305020Z"
    },
    "papermill": {
     "duration": 0.666515,
     "end_time": "2022-10-12T17:17:49.324127",
     "exception": false,
     "start_time": "2022-10-12T17:17:48.657612",
     "status": "completed"
    },
    "tags": []
   },
   "outputs": [],
   "source": [
    "#SMA\n",
    "data['SMA_5'] = data['Close'].rolling(5).mean().shift()\n",
    "data['SMA_15'] = data['Close'].rolling(15).mean().shift()\n",
    "\n",
    "\n",
    "# If u want to visualize between a range of specific dates u can do it like -> fig = go.Figure(layout_xaxis_range=['2019-06-04','2020-01-02'])\n",
    "\n",
    "fig = go.Figure()\n",
    "fig.add_trace(go.Scatter(x=data.Date,y=data.SMA_5,name='SMA_5'))\n",
    "fig.add_trace(go.Scatter(x=data.Date,y=data.SMA_15,name='SMA_15'))\n",
    "fig.add_trace(go.Scatter(x=data.Date,y=data.Close,name='Close', opacity=0.3))\n",
    "fig.show()"
   ]
  },
  {
   "cell_type": "markdown",
   "id": "a246ed8f",
   "metadata": {
    "papermill": {
     "duration": 0.097452,
     "end_time": "2022-10-12T17:17:49.522240",
     "exception": false,
     "start_time": "2022-10-12T17:17:49.424788",
     "status": "completed"
    },
    "tags": []
   },
   "source": [
    "Although SMA is quite common, it contains a bias of giving equal weight to each value in the past."
   ]
  },
  {
   "cell_type": "markdown",
   "id": "8a2c30a7",
   "metadata": {
    "papermill": {
     "duration": 0.10127,
     "end_time": "2022-10-12T17:17:49.727969",
     "exception": false,
     "start_time": "2022-10-12T17:17:49.626699",
     "status": "completed"
    },
    "tags": []
   },
   "source": [
    "## Exponential Moving Average (EMA)\n",
    "\n",
    "* An exponential moving average (EMA) is a type of moving average (MA) that places a greater weight and significance on the most recent data points.\n",
    "* Basically what it means is that the newer stock price data has a higher weightage/significance on the price than older days."
   ]
  },
  {
   "cell_type": "code",
   "execution_count": null,
   "id": "83e576f1",
   "metadata": {
    "execution": {
     "iopub.execute_input": "2022-10-12T17:17:49.935914Z",
     "iopub.status.busy": "2022-10-12T17:17:49.934550Z",
     "iopub.status.idle": "2022-10-12T17:17:50.494615Z",
     "shell.execute_reply": "2022-10-12T17:17:50.493032Z"
    },
    "papermill": {
     "duration": 0.680666,
     "end_time": "2022-10-12T17:17:50.511545",
     "exception": false,
     "start_time": "2022-10-12T17:17:49.830879",
     "status": "completed"
    },
    "tags": []
   },
   "outputs": [],
   "source": [
    "#EMA\n",
    "\n",
    "data['EMA_5'] = data['Close'].ewm(5).mean().shift()\n",
    "data['EMA_15'] = data['Close'].ewm(15).mean().shift()\n",
    "\n",
    "# If u want to visualize between a range of specific dates u can do it like -> fig = go.Figure(layout_xaxis_range=['2019-06-04','2020-01-02'])\n",
    "\n",
    "fig = go.Figure()\n",
    "fig.add_trace(go.Scatter(x=data.Date,y=data.EMA_5,name='EMA_5'))\n",
    "fig.add_trace(go.Scatter(x=data.Date,y=data.EMA_15,name='EMA_15'))\n",
    "fig.add_trace(go.Scatter(x=data.Date,y=data.Close,name='Close', opacity=0.3))\n",
    "fig.show()"
   ]
  },
  {
   "cell_type": "code",
   "execution_count": null,
   "id": "22a747c7",
   "metadata": {
    "execution": {
     "iopub.execute_input": "2022-10-12T17:17:50.746646Z",
     "iopub.status.busy": "2022-10-12T17:17:50.746223Z",
     "iopub.status.idle": "2022-10-12T17:17:51.313522Z",
     "shell.execute_reply": "2022-10-12T17:17:51.312254Z"
    },
    "papermill": {
     "duration": 0.699211,
     "end_time": "2022-10-12T17:17:51.328610",
     "exception": false,
     "start_time": "2022-10-12T17:17:50.629399",
     "status": "completed"
    },
    "tags": []
   },
   "outputs": [],
   "source": [
    "# Now lets compare SMA's and EMA's\n",
    "\n",
    "fig = go.Figure()\n",
    "fig.add_trace(go.Scatter(x=data.Date,y=data.SMA_5,name='SMA_5'))\n",
    "fig.add_trace(go.Scatter(x=data.Date,y=data.EMA_5,name='EMA_5'))\n",
    "fig.add_trace(go.Scatter(x=data.Date,y=data.Close,name='Close', opacity=0.3))\n",
    "fig.show()\n",
    "# EMA_5 is performing better than SMA_5 as it is closer to Closing price of Stock."
   ]
  },
  {
   "cell_type": "markdown",
   "id": "6f636541",
   "metadata": {
    "papermill": {
     "duration": 0.157785,
     "end_time": "2022-10-12T17:17:57.724872",
     "exception": false,
     "start_time": "2022-10-12T17:17:57.567087",
     "status": "completed"
    },
    "tags": []
   },
   "source": [
    "# Stationary Test / ADF (Augmented Dickey-Fuller) Test\n",
    "\n",
    "A stationary time series is one whose statistical properties such as mean, variance, autocorrelation, etc. are all constant over time.\n",
    "\n",
    "\n",
    "Stationarity is important as non-stationary series that depend on time have too many parameters to account for when modelling the time series. \n",
    "\n",
    "diff() method can easily convert a non-stationary series to a stationary series.\n",
    "\n",
    "* First, we need to check if a series is stationary or not because time series analysis only works with stationary data.\n",
    "* The Dickey-Fuller test is one of the most popular statistical tests. \n",
    "* It can be used to determine the presence of unit root in the series, and hence help us understand if the series is stationary or not. The null and alternate hypothesis of this test is:\n",
    "\n",
    "**Null Hypothesis**: The series has a unit root (value of a =1)\n",
    "\n",
    "**Alternate Hypothesis**: The series has no unit root.\n",
    "\n",
    "If we fail to reject the null hypothesis, we can say that the series is non-stationary. This means that the series can be linear or difference stationary.\n",
    "\n",
    "**If both mean and standard deviation are flat lines(constant mean and constant variance), the series becomes stationary.**"
   ]
  },
  {
   "cell_type": "code",
   "execution_count": null,
   "id": "be4a1e05",
   "metadata": {
    "execution": {
     "iopub.execute_input": "2022-10-12T17:17:58.041810Z",
     "iopub.status.busy": "2022-10-12T17:17:58.041005Z",
     "iopub.status.idle": "2022-10-12T17:17:59.046874Z",
     "shell.execute_reply": "2022-10-12T17:17:59.045610Z"
    },
    "papermill": {
     "duration": 1.170152,
     "end_time": "2022-10-12T17:17:59.050852",
     "exception": false,
     "start_time": "2022-10-12T17:17:57.880700",
     "status": "completed"
    },
    "tags": []
   },
   "outputs": [],
   "source": [
    "#Test for staionarity\n",
    "def test_stationarity(timeseries):\n",
    "    \n",
    "    #Determing rolling statistics\n",
    "    rolmean = timeseries.rolling(12).mean()\n",
    "    rolstd = timeseries.rolling(12).std()\n",
    "    \n",
    "    #Plot rolling statistics:\n",
    "    plt.figure(figsize=(15,5))\n",
    "    plt.plot(timeseries,color='blue',label='Original')\n",
    "    plt.plot(rolmean,color='red',label='Rolling Mean')\n",
    "    plt.plot(rolstd, color='black', label = 'Rolling Std')\n",
    "    plt.legend(loc='best')\n",
    "    plt.title('Rolling Mean and Standard Deviation')\n",
    "    plt.show(block=False)\n",
    "    \n",
    "    print(\"Results of dickey fuller test\")\n",
    "    adft = adfuller(timeseries,autolag='AIC')\n",
    "    # output for dft will give us without defining what the values are.\n",
    "    #hence we manually write what values does it explains using a for loop\n",
    "    output = pd.Series(adft[0:4],index=['Test Statistics','p-value','No. of lags used','Number of observations used'])\n",
    "    print(output)\n",
    "\n",
    "test_stationarity(data['Close'])    "
   ]
  },
  {
   "cell_type": "markdown",
   "id": "88829da5",
   "metadata": {
    "papermill": {
     "duration": 0.146415,
     "end_time": "2022-10-12T17:17:59.421463",
     "exception": false,
     "start_time": "2022-10-12T17:17:59.275048",
     "status": "completed"
    },
    "tags": []
   },
   "source": [
    "\n",
    "\n",
    "Through the above graph, we can see the increasing mean and standard deviation and hence **our series is not stationary.**\n",
    "\n",
    "We see that the p-value is greater than 0.05 so we cannot reject the Null hypothesis. So the data is non-stationary.\n",
    "\n",
    "### DIFFERENCING:\n",
    "\n",
    "    Differencing is a popular and widely used data transform for making time series data stationary.\n",
    "\n",
    "    Differencing can help stabilise the mean of a time series by removing changes in the level of a time series, and therefore eliminating (or reducing) trend and seasonality.\n",
    "\n",
    "    Differencing shifts ONE/MORE row towards downwards.\n",
    "    \n",
    "    \n",
    "    \n",
    "   If Y_t is the value at time t, then the first difference of Y = Yt – Yt-1. In simpler terms, differencing the series is nothing but subtracting the next value by the current value.\n",
    "\n",
    "\n",
    "- If the first difference doesn’t make a series stationary, we can go for the second differencing and so on.\n",
    "\n",
    "\n",
    "  - For example, consider the following series: [1, 5, 2, 12, 20]\n",
    "\n",
    "\n",
    "  - First differencing gives: [5-1, 2-5, 12-2, 20-12] = [4, -3, 10, 8]\n",
    "\n",
    "\n",
    "  - Second differencing gives: [-3-4, -10-3, 8-10] = [-7, -13, -2]"
   ]
  },
  {
   "cell_type": "code",
   "execution_count": null,
   "id": "e500854f",
   "metadata": {
    "execution": {
     "iopub.execute_input": "2022-10-12T17:17:59.730323Z",
     "iopub.status.busy": "2022-10-12T17:17:59.729931Z",
     "iopub.status.idle": "2022-10-12T17:17:59.740728Z",
     "shell.execute_reply": "2022-10-12T17:17:59.739442Z"
    },
    "papermill": {
     "duration": 0.16482,
     "end_time": "2022-10-12T17:17:59.743499",
     "exception": false,
     "start_time": "2022-10-12T17:17:59.578679",
     "status": "completed"
    },
    "tags": []
   },
   "outputs": [],
   "source": [
    "data['Stocks First Difference']=data['Close']-data['Close'].shift(1)"
   ]
  },
  {
   "cell_type": "code",
   "execution_count": null,
   "id": "e1352378",
   "metadata": {
    "execution": {
     "iopub.execute_input": "2022-10-12T17:18:00.059597Z",
     "iopub.status.busy": "2022-10-12T17:18:00.058505Z",
     "iopub.status.idle": "2022-10-12T17:18:00.694396Z",
     "shell.execute_reply": "2022-10-12T17:18:00.693092Z"
    },
    "papermill": {
     "duration": 0.79681,
     "end_time": "2022-10-12T17:18:00.698587",
     "exception": false,
     "start_time": "2022-10-12T17:17:59.901777",
     "status": "completed"
    },
    "tags": []
   },
   "outputs": [],
   "source": [
    "adft = adfuller(data['Stocks First Difference'].dropna(),autolag='AIC')\n",
    "output = pd.Series(adft[0:4],index=['Test Statistics','p-value','No. of lags used','Number of observations used'])\n",
    "print(output)"
   ]
  },
  {
   "cell_type": "code",
   "execution_count": null,
   "id": "0863fce3",
   "metadata": {
    "execution": {
     "iopub.execute_input": "2022-10-12T17:18:03.177666Z",
     "iopub.status.busy": "2022-10-12T17:18:03.177272Z",
     "iopub.status.idle": "2022-10-12T17:18:03.530393Z",
     "shell.execute_reply": "2022-10-12T17:18:03.529046Z"
    },
    "papermill": {
     "duration": 0.522565,
     "end_time": "2022-10-12T17:18:03.532991",
     "exception": false,
     "start_time": "2022-10-12T17:18:03.010426",
     "status": "completed"
    },
    "tags": []
   },
   "outputs": [],
   "source": [
    "data['Stocks First Difference'].plot()"
   ]
  },
  {
   "cell_type": "markdown",
   "id": "29191a2e",
   "metadata": {
    "papermill": {
     "duration": 0.147014,
     "end_time": "2022-10-12T17:18:03.838668",
     "exception": false,
     "start_time": "2022-10-12T17:18:03.691654",
     "status": "completed"
    },
    "tags": []
   },
   "source": [
    "\n",
    "NOW OUR DATA IS STATIONARY."
   ]
  },
  {
   "cell_type": "markdown",
   "id": "45acc8b3",
   "metadata": {
    "papermill": {
     "duration": 0.158861,
     "end_time": "2022-10-12T17:18:04.158849",
     "exception": false,
     "start_time": "2022-10-12T17:18:03.999988",
     "status": "completed"
    },
    "tags": []
   },
   "source": [
    "# ARIMA Model\n",
    "\n",
    "* Autoregressive integrated moving average (ARIMA) models predict future values based on past values.\n",
    "* ARIMA makes use of lagged moving averages to smooth time series data.\n",
    "* They are widely used in technical analysis to forecast future security prices.\n",
    "\n",
    " According to the name, we can split the model into smaller components as follow:\n",
    " \n",
    "1. **AR**: an AutoregRegressive model which represents a type of random process. The output of the model is linearly dependent on its own previous value i.e. some number of lagged data points or the number of past observations.\n",
    "\n",
    "\n",
    "2. **I**: integrated here means the differencing step to generate stationary time series data, i.e. removing the seasonal and trend components.\n",
    "\n",
    "\n",
    "3. **MA**: a Moving Average model which output is dependent linearly on the current and various past observations of a stochastic term.\n",
    "\n",
    "ARIMA model is generally denoted as **ARIMA(p, d, q)** and parameter p, d, q are defined as follow:\n",
    "\n",
    "1. **p**: the lag order or the number of time lag of autoregressive model AR(p)\n",
    "\n",
    "\n",
    "2. **d**: degree of differencing or the number of times the data have had subtracted with past value\n",
    "\n",
    "\n",
    "3. **q**: the order of moving average model MA(q)\n",
    "\n",
    "Its time to choose parameters p,q,d for ARIMA model. The value of p,d, and q are choosen by observing the plots of ACF and PACF \n",
    "\n",
    "\n",
    "**Note**: We can use Auto ARIMA to get the best parameters without even plotting ACF and PACF graphs. **Auto ARIMA**: Automatically discover the optimal order for an ARIMA model.\n",
    "\n",
    "The auto_arima function seeks to identify the most optimal parameters for an ARIMA model, and returns a fitted ARIMA model. This function is based on the commonly-used R function, forecast::auto.arima.\n"
   ]
  },
  {
   "cell_type": "markdown",
   "id": "859ebe2d",
   "metadata": {},
   "source": [
    "# Configuring an ARIMA Model"
   ]
  },
  {
   "cell_type": "markdown",
   "id": "a6ec58de",
   "metadata": {},
   "source": [
    "- **Model Identification**. Use plots and summary statistics to identify trends, seasonality, and autoregression elements to get an idea of the amount of differencing and the size of the lag that will be required.\n",
    "\n",
    "\n",
    "- **Parameter Estimation**. Use a fitting procedure to find the coefficients of the regression model.\n",
    "\n",
    "\n",
    "- **Model Checking**. Use plots and statistical tests of the residual errors to determine the amount and type of temporal structure not captured by the model."
   ]
  },
  {
   "cell_type": "markdown",
   "id": "6249534d",
   "metadata": {
    "papermill": {
     "duration": 0.157773,
     "end_time": "2022-10-12T17:18:04.476359",
     "exception": false,
     "start_time": "2022-10-12T17:18:04.318586",
     "status": "completed"
    },
    "tags": []
   },
   "source": [
    "# Autocorrelation and Partial Autocorrelation\n",
    "\n",
    "* Autocorrelation - The autocorrelation function (ACF) measures how a series is correlated with itself at different lags.\n",
    "\n",
    "\n",
    "* Partial Autocorrelation - The partial autocorrelation function can be interpreted as a regression of the series against its past lags. The terms can be interpreted the same way as a standard linear regression, that is the contribution of a change in that particular lag while holding others constant."
   ]
  },
  {
   "cell_type": "markdown",
   "id": "52d654ab",
   "metadata": {},
   "source": [
    "To determine the appropriate values of p and q, you can follow these general guidelines:\n",
    "\n",
    "- Identify the order of differencing (d) required to make the time series stationary.\n",
    "- Plot the ACF and PACF of the differenced time series.\n",
    "- Look for significant spikes at different lags in the ACF and PACF plots.\n",
    "- If the ACF plot shows a significant spike at lag k and the PACF plot shows a gradual decay, then a possible model is an AR(p) model, where p = k.\n",
    "- If the PACF plot shows a significant spike at lag k and the ACF plot shows a gradual decay, then a possible model is an MA(q) model, where q = k.\n",
    "- If both the ACF and PACF plots show significant spikes at lag k, then a possible model is an ARMA(p, q) model, where p = k in the PACF plot and q = k in the ACF plot.\n"
   ]
  },
  {
   "cell_type": "code",
   "execution_count": null,
   "id": "ccc6a984",
   "metadata": {
    "execution": {
     "iopub.execute_input": "2022-10-12T17:18:04.792642Z",
     "iopub.status.busy": "2022-10-12T17:18:04.791819Z",
     "iopub.status.idle": "2022-10-12T17:18:05.015436Z",
     "shell.execute_reply": "2022-10-12T17:18:05.014244Z"
    },
    "papermill": {
     "duration": 0.384293,
     "end_time": "2022-10-12T17:18:05.017960",
     "exception": false,
     "start_time": "2022-10-12T17:18:04.633667",
     "status": "completed"
    },
    "tags": []
   },
   "outputs": [],
   "source": [
    "plot_acf(data[\"Stocks First Difference\"].dropna(),lags=5,title=\"AutoCorrelation\")\n",
    "plt.show()\n",
    "\n",
    "# As all lags are either close to 1 or at least greater than the confidence interval, they are statistically significant.\n",
    "# A u can see ... the diverging blue region is confidence interval"
   ]
  },
  {
   "cell_type": "code",
   "execution_count": null,
   "id": "1264de56",
   "metadata": {
    "_kg_hide-output": false,
    "execution": {
     "iopub.execute_input": "2022-10-12T17:18:06.431570Z",
     "iopub.status.busy": "2022-10-12T17:18:06.431170Z",
     "iopub.status.idle": "2022-10-12T17:18:06.643160Z",
     "shell.execute_reply": "2022-10-12T17:18:06.641833Z"
    },
    "papermill": {
     "duration": 0.366966,
     "end_time": "2022-10-12T17:18:06.645775",
     "exception": false,
     "start_time": "2022-10-12T17:18:06.278809",
     "status": "completed"
    },
    "tags": []
   },
   "outputs": [],
   "source": [
    "plot_pacf(data[\"Stocks First Difference\"].dropna(),lags=5,title=\"Partial AutoCorrelation\")\n",
    "plt.show()\n",
    "\n",
    "# Here, only 0th and 1st are statistically significant."
   ]
  },
  {
   "cell_type": "markdown",
   "id": "acfd65ea",
   "metadata": {
    "papermill": {
     "duration": 0.151744,
     "end_time": "2022-10-12T17:18:08.036016",
     "exception": false,
     "start_time": "2022-10-12T17:18:07.884272",
     "status": "completed"
    },
    "tags": []
   },
   "source": [
    "\n",
    "Here these two graphs will help you to find the p and q values.\n",
    "\n",
    "    Partial AutoCorrelation Graph is for the p-value.\n",
    "    AutoCorrelation Graph for the q-value.\n"
   ]
  },
  {
   "cell_type": "markdown",
   "id": "99226c27",
   "metadata": {
    "papermill": {
     "duration": 0.166315,
     "end_time": "2022-10-12T17:18:08.365847",
     "exception": false,
     "start_time": "2022-10-12T17:18:08.199532",
     "status": "completed"
    },
    "tags": []
   },
   "source": [
    "# Forecasting"
   ]
  },
  {
   "cell_type": "markdown",
   "id": "f4179c64",
   "metadata": {
    "execution": {
     "iopub.execute_input": "2022-10-06T17:45:30.184376Z",
     "iopub.status.busy": "2022-10-06T17:45:30.183965Z",
     "iopub.status.idle": "2022-10-06T17:45:30.192682Z",
     "shell.execute_reply": "2022-10-06T17:45:30.190820Z",
     "shell.execute_reply.started": "2022-10-06T17:45:30.184345Z"
    },
    "papermill": {
     "duration": 0.158714,
     "end_time": "2022-10-12T17:18:08.689895",
     "exception": false,
     "start_time": "2022-10-12T17:18:08.531181",
     "status": "completed"
    },
    "tags": []
   },
   "source": [
    "### Split the data\n",
    "\n",
    "\n",
    "Important Note on Cross Validation\n",
    "\n",
    "To measure the performance of our forecasting model, We typically want to split the time series into a training period and a validation period. This is called fixed partitioning.\n",
    "\n",
    "    We'll train our model on the training period, we'll evaluate it on the validation period. Here's where you can experiment to find the right architecture for training. And work on it and your hyper parameters, until you get the desired performance, measured using the validation set. Often, once you've done that, you can retrain using both the training and validation data.And then test on the test(or forecast) period to see if your model will perform just as well.\n",
    "\n",
    "    And if it does, then you could take the unusual step of retraining again, using also the test data. But why would you do that? Well, it's because the test data is the closest data you have to the current point in time. And as such it's often the strongest signal in determining future values. If your model is not trained using that data, too, then it may not be optimal.\n",
    "\n",
    "Here, we we will opt for a hold-out based validation.\n",
    "\n",
    "Now we are going to create an ARIMA model and will train it with the closing price of the stock on the train data. So let us **split the data into train and test set** and visualize it.\n",
    "\n",
    "\n",
    "*     **train**: Data from 2015 to 31st December, 2018.\n",
    "*     **valid**: Data from 1st January, 2019 to 2020.\n"
   ]
  },
  {
   "cell_type": "code",
   "execution_count": null,
   "id": "4f6919a8",
   "metadata": {
    "execution": {
     "iopub.execute_input": "2022-10-12T17:18:09.013070Z",
     "iopub.status.busy": "2022-10-12T17:18:09.012658Z",
     "iopub.status.idle": "2022-10-12T17:18:09.021766Z",
     "shell.execute_reply": "2022-10-12T17:18:09.020890Z"
    },
    "papermill": {
     "duration": 0.174548,
     "end_time": "2022-10-12T17:18:09.023927",
     "exception": false,
     "start_time": "2022-10-12T17:18:08.849379",
     "status": "completed"
    },
    "tags": []
   },
   "outputs": [],
   "source": [
    "stocks_data=stocks_data[stocks_data.Date > \"2015\"]\n",
    "df_train = stocks_data[stocks_data.Date < \"2019\"]\n",
    "df_valid = stocks_data[stocks_data.Date >= \"2019\"]\n",
    "print(df_train.shape)\n",
    "print(df_valid.shape)"
   ]
  },
  {
   "cell_type": "markdown",
   "id": "1aafac2b",
   "metadata": {
    "papermill": {
     "duration": 0.181566,
     "end_time": "2022-10-12T17:18:09.364157",
     "exception": false,
     "start_time": "2022-10-12T17:18:09.182591",
     "status": "completed"
    },
    "tags": []
   },
   "source": [
    "## ARIMA"
   ]
  },
  {
   "cell_type": "code",
   "execution_count": null,
   "id": "b0efd1b9",
   "metadata": {
    "execution": {
     "iopub.execute_input": "2022-10-12T17:18:09.691713Z",
     "iopub.status.busy": "2022-10-12T17:18:09.690876Z",
     "iopub.status.idle": "2022-10-12T17:18:09.696433Z",
     "shell.execute_reply": "2022-10-12T17:18:09.695394Z"
    },
    "papermill": {
     "duration": 0.167784,
     "end_time": "2022-10-12T17:18:09.698887",
     "exception": false,
     "start_time": "2022-10-12T17:18:09.531103",
     "status": "completed"
    },
    "tags": []
   },
   "outputs": [],
   "source": [
    "train = df_train['Close'].values\n",
    "test = df_valid['Close'].values"
   ]
  },
  {
   "cell_type": "code",
   "execution_count": null,
   "id": "e19aa1e8",
   "metadata": {
    "_kg_hide-output": true,
    "execution": {
     "iopub.execute_input": "2022-10-12T17:18:10.024184Z",
     "iopub.status.busy": "2022-10-12T17:18:10.023720Z",
     "iopub.status.idle": "2022-10-12T17:37:06.311950Z",
     "shell.execute_reply": "2022-10-12T17:37:06.310158Z"
    },
    "papermill": {
     "duration": 1136.454085,
     "end_time": "2022-10-12T17:37:06.316819",
     "exception": false,
     "start_time": "2022-10-12T17:18:09.862734",
     "status": "completed"
    },
    "tags": []
   },
   "outputs": [],
   "source": [
    "history = [x for x in train]\n",
    "predictions = list()\n",
    "\n",
    "# walk-forward validation\n",
    "for t in range(len(df_valid)):\n",
    "    model = ARIMA(history, order=(2,1,2))\n",
    "    model_fit = model.fit()\n",
    "    output = model_fit.forecast()\n",
    "    yhat = output[0]\n",
    "    predictions.append(yhat)\n",
    "    obs = test[t]\n",
    "    history.append(obs)\n",
    "    print('predicted=%f, expected=%f' % (yhat, obs))"
   ]
  },
  {
   "cell_type": "markdown",
   "id": "fff74b37",
   "metadata": {
    "papermill": {
     "duration": 0.173268,
     "end_time": "2022-10-12T17:37:06.716027",
     "exception": false,
     "start_time": "2022-10-12T17:37:06.542759",
     "status": "completed"
    },
    "tags": []
   },
   "source": [
    "**Root Mean square error**\n",
    "\n",
    "Root Mean square error is one of the most commonly used measures for evaluating the quality of predictions. It shows how far predictions fall from measured true values using Euclidean distance."
   ]
  },
  {
   "cell_type": "code",
   "execution_count": null,
   "id": "fe7ce6ad",
   "metadata": {
    "execution": {
     "iopub.execute_input": "2022-10-12T17:37:07.063891Z",
     "iopub.status.busy": "2022-10-12T17:37:07.063432Z",
     "iopub.status.idle": "2022-10-12T17:37:07.071127Z",
     "shell.execute_reply": "2022-10-12T17:37:07.069729Z"
    },
    "papermill": {
     "duration": 0.183002,
     "end_time": "2022-10-12T17:37:07.073703",
     "exception": false,
     "start_time": "2022-10-12T17:37:06.890701",
     "status": "completed"
    },
    "tags": []
   },
   "outputs": [],
   "source": [
    "# evaluate forecasts\n",
    "rmse_arima = sqrt(mean_squared_error(test, predictions))\n",
    "print('Test RMSE: %.3f' % rmse_arima)"
   ]
  },
  {
   "cell_type": "code",
   "execution_count": null,
   "id": "a5074d3a",
   "metadata": {
    "execution": {
     "iopub.execute_input": "2022-10-12T17:37:07.418599Z",
     "iopub.status.busy": "2022-10-12T17:37:07.417777Z",
     "iopub.status.idle": "2022-10-12T17:37:07.459233Z",
     "shell.execute_reply": "2022-10-12T17:37:07.458056Z"
    },
    "papermill": {
     "duration": 0.218156,
     "end_time": "2022-10-12T17:37:07.462134",
     "exception": false,
     "start_time": "2022-10-12T17:37:07.243978",
     "status": "completed"
    },
    "tags": []
   },
   "outputs": [],
   "source": [
    "fig = go.Figure()\n",
    "fig.add_trace(go.Scatter(x=df_valid.Date,y=df_valid.Close,name='Close'))\n",
    "fig.add_trace(go.Scatter(x=df_valid.Date,y=predictions,name='Forecast_ARIMA'))\n",
    "fig.show()"
   ]
  }
 ],
 "metadata": {
  "kernelspec": {
   "display_name": "Python 3 (ipykernel)",
   "language": "python",
   "name": "python3"
  },
  "language_info": {
   "codemirror_mode": {
    "name": "ipython",
    "version": 3
   },
   "file_extension": ".py",
   "mimetype": "text/x-python",
   "name": "python",
   "nbconvert_exporter": "python",
   "pygments_lexer": "ipython3",
   "version": "3.10.12"
  },
  "papermill": {
   "default_parameters": {},
   "duration": 1252.493385,
   "end_time": "2022-10-12T17:37:56.068573",
   "environment_variables": {},
   "exception": null,
   "input_path": "__notebook__.ipynb",
   "output_path": "__notebook__.ipynb",
   "parameters": {},
   "start_time": "2022-10-12T17:17:03.575188",
   "version": "2.3.4"
  }
 },
 "nbformat": 4,
 "nbformat_minor": 5
}
