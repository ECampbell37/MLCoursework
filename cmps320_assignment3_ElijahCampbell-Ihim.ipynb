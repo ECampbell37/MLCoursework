{
 "cells": [
  {
   "cell_type": "markdown",
   "id": "f22fd7ce",
   "metadata": {},
   "source": [
    "# Assignment 3 (Exam Make up) Elijah Campbell-Ihim"
   ]
  },
  {
   "cell_type": "code",
   "execution_count": 7,
   "id": "0c31c9a4",
   "metadata": {},
   "outputs": [
    {
     "data": {
      "text/html": [
       "<div>\n",
       "<style scoped>\n",
       "    .dataframe tbody tr th:only-of-type {\n",
       "        vertical-align: middle;\n",
       "    }\n",
       "\n",
       "    .dataframe tbody tr th {\n",
       "        vertical-align: top;\n",
       "    }\n",
       "\n",
       "    .dataframe thead th {\n",
       "        text-align: right;\n",
       "    }\n",
       "</style>\n",
       "<table border=\"1\" class=\"dataframe\">\n",
       "  <thead>\n",
       "    <tr style=\"text-align: right;\">\n",
       "      <th></th>\n",
       "      <th>'Experience'</th>\n",
       "      <th>'Success'</th>\n",
       "    </tr>\n",
       "  </thead>\n",
       "  <tbody>\n",
       "    <tr>\n",
       "      <th>0</th>\n",
       "      <td>2</td>\n",
       "      <td>0</td>\n",
       "    </tr>\n",
       "    <tr>\n",
       "      <th>1</th>\n",
       "      <td>4</td>\n",
       "      <td>0</td>\n",
       "    </tr>\n",
       "    <tr>\n",
       "      <th>2</th>\n",
       "      <td>5</td>\n",
       "      <td>0</td>\n",
       "    </tr>\n",
       "    <tr>\n",
       "      <th>3</th>\n",
       "      <td>6</td>\n",
       "      <td>0</td>\n",
       "    </tr>\n",
       "    <tr>\n",
       "      <th>4</th>\n",
       "      <td>7</td>\n",
       "      <td>0</td>\n",
       "    </tr>\n",
       "  </tbody>\n",
       "</table>\n",
       "</div>"
      ],
      "text/plain": [
       "   'Experience'  'Success'\n",
       "0             2          0\n",
       "1             4          0\n",
       "2             5          0\n",
       "3             6          0\n",
       "4             7          0"
      ]
     },
     "execution_count": 7,
     "metadata": {},
     "output_type": "execute_result"
    }
   ],
   "source": [
    "import pandas as pd\n",
    "import statsmodels.api as sm\n",
    "\n",
    "file_path = 'ex12-40.txt'\n",
    "df = pd.read_csv(file_path, delimiter=',')  \n",
    "\n",
    "df.head()"
   ]
  },
  {
   "cell_type": "code",
   "execution_count": 8,
   "id": "cef51b21",
   "metadata": {},
   "outputs": [
    {
     "name": "stdout",
     "output_type": "stream",
     "text": [
      "Optimization terminated successfully.\n",
      "         Current function value: 0.587472\n",
      "         Iterations 5\n",
      "                           Logit Regression Results                           \n",
      "==============================================================================\n",
      "Dep. Variable:              'Success'   No. Observations:                   25\n",
      "Model:                          Logit   Df Residuals:                       23\n",
      "Method:                           MLE   Df Model:                            1\n",
      "Date:                Sun, 29 Oct 2023   Pseudo R-squ.:                  0.1515\n",
      "Time:                        14:19:32   Log-Likelihood:                -14.687\n",
      "converged:                       True   LL-Null:                       -17.309\n",
      "Covariance Type:            nonrobust   LLR p-value:                   0.02203\n",
      "================================================================================\n",
      "                   coef    std err          z      P>|z|      [0.025      0.975]\n",
      "--------------------------------------------------------------------------------\n",
      "const           -1.6842      0.945     -1.782      0.075      -3.537       0.168\n",
      "'Experience'     0.1194      0.059      2.027      0.043       0.004       0.235\n",
      "================================================================================\n",
      "Probability of completing the task for an engineer with 36 months of experience: 0.93\n"
     ]
    }
   ],
   "source": [
    "# Add a constant for the logistic regression model\n",
    "x = sm.add_constant(df[\"'Experience'\"])\n",
    "\n",
    "# Fit logistic regression model\n",
    "logit_model = sm.Logit(df[\"'Success'\"], x)\n",
    "result = logit_model.fit()\n",
    "\n",
    "#Summary of logistic regression\n",
    "print(result.summary())\n",
    "\n",
    "#Compute the probability for 36 months of experience\n",
    "engineer_experience = 36\n",
    "probability_completed = result.predict([1, engineer_experience])[0]\n",
    "print(f\"Probability of completing the task for an engineer with 36 months of experience: {probability_completed:.2f}\")"
   ]
  },
  {
   "cell_type": "markdown",
   "id": "89a7eae6",
   "metadata": {},
   "source": [
    "# Interpretation of the results"
   ]
  },
  {
   "cell_type": "markdown",
   "id": "6e8adda0",
   "metadata": {},
   "source": [
    "## Answer to questions:\n",
    "#### (a) Determine whether months of experience is associated with the probability of completing the task.\n",
    "The months of experience variable is statistically significant at the 0.05 level (p val = .043), which means that there is a significant relationship between months of experience and the probability of completing the task successfully. This means that months of experience is associated with the probability of completing the task successfully.\n",
    "\n",
    "#### (b) Compute the probability of completing the task for an engineer having 36 months of experience.\n",
    "The probability of an engineer with 36 months of experience completing the task is about 93%, which makes sense as more experienced engineers would be most likely to complete the task successfully"
   ]
  },
  {
   "cell_type": "code",
   "execution_count": null,
   "id": "573927ad",
   "metadata": {},
   "outputs": [],
   "source": []
  }
 ],
 "metadata": {
  "kernelspec": {
   "display_name": "Python 3 (ipykernel)",
   "language": "python",
   "name": "python3"
  },
  "language_info": {
   "codemirror_mode": {
    "name": "ipython",
    "version": 3
   },
   "file_extension": ".py",
   "mimetype": "text/x-python",
   "name": "python",
   "nbconvert_exporter": "python",
   "pygments_lexer": "ipython3",
   "version": "3.10.12"
  }
 },
 "nbformat": 4,
 "nbformat_minor": 5
}
